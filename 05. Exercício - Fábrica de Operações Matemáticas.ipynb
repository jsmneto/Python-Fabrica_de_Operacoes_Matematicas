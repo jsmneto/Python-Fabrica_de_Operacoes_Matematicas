{
 "cells": [
  {
   "cell_type": "code",
   "execution_count": 5,
   "id": "7a73ce3d-e5c9-4c6f-b737-a52bf31a862b",
   "metadata": {},
   "outputs": [
    {
     "name": "stdout",
     "output_type": "stream",
     "text": [
      "\n"
     ]
    }
   ],
   "source": [
    "\"\"\"\n",
    "Exercício: Fábrica de Funções de Operações Matemáticas\n",
    "\n",
    "Imagine que você está construindo uma calculadora. Porém, ao invés de \n",
    "implementar cada operação matemática (soma, subtração, multiplicação e divisão) \n",
    "diretamente, você decide criar uma \"fábrica de funções\". Esta fábrica, quando fornecida \n",
    "com o nome de uma operação, deve retornar uma função que realiza a operação desejada.\n",
    "\n",
    "Instruções:\n",
    "\n",
    "    - Escreva uma função chamada fábrica_de_operacoes que aceite uma \n",
    "    string: 'soma', 'subtracao', 'multiplicacao' ou 'divisao'.\n",
    "    \n",
    "    - Dependendo do argumento fornecido, sua função deve retornar uma das \n",
    "    operações matemáticas. Por exemplo, se o argumento for 'soma', a função \n",
    "    retornada deve ser capaz de somar dois números.\n",
    "    \n",
    "    - Se a operação não for reconhecida, retorne uma função que \n",
    "    imprima \"Operação não suportada.\".\n",
    "    \n",
    "    \n",
    "Desafio Extra:\n",
    "Adapte a fábrica para aceitar operações com \n",
    "mais de dois números. Por exemplo, a operação de soma deve \n",
    "ser capaz de somar três, quatro ou mais números de uma só vez.\n",
    "\n",
    "Dica: Utilize argumentos variáveis (*args) para essa adaptação.\n",
    "\"\"\"\n",
    "print()"
   ]
  },
  {
   "cell_type": "code",
   "execution_count": null,
   "id": "f6a6ba87-6027-4245-8a3a-12fa1f8f6e69",
   "metadata": {},
   "outputs": [],
   "source": []
  },
  {
   "cell_type": "code",
   "execution_count": 68,
   "id": "93765693-86df-4009-af83-fb09c471e80c",
   "metadata": {},
   "outputs": [
    {
     "name": "stdout",
     "output_type": "stream",
     "text": [
      "15\n",
      "30\n",
      "4\n",
      "41.25\n",
      "Operação não suportada.\n"
     ]
    }
   ],
   "source": [
    "def fabrica_de_funcoes (operacao):\n",
    "\n",
    "    def soma (*args):\n",
    "        return sum(args)\n",
    "    def subtracao (*args):\n",
    "        resultado = args [0]\n",
    "        for num in args[1:]:\n",
    "            resultado -= num\n",
    "        return resultado\n",
    "\n",
    "    def multiplicacao (*args):\n",
    "        resultado = args [0]\n",
    "        for num in args[1:]:\n",
    "            resultado *= num\n",
    "        return resultado\n",
    "\n",
    "    def divisao (*args):\n",
    "        resultado = args [0]\n",
    "        for num in args [1:]:\n",
    "            if num == 0:\n",
    "                raise ValueError (\"Erro, divisão por 0 não permitida.\")\n",
    "            resultado /= num\n",
    "        return resultado\n",
    "            \n",
    "    if operacao == \"soma\":\n",
    "        return soma\n",
    "\n",
    "    elif operacao == \"subtracao\":\n",
    "        return subtracao\n",
    "\n",
    "    elif operacao == \"multiplicacao\":\n",
    "        return multiplicacao\n",
    "\n",
    "    elif operacao == \"divisao\":\n",
    "        return divisao\n",
    "\n",
    "    else:\n",
    "        def operacao_nao_suportada (*args):\n",
    "            return \"Operação não suportada.\"\n",
    "        return operacao_nao_suportada\n",
    "\n",
    "adicionar = fabrica_de_funcoes (\"soma\")\n",
    "print (adicionar (5, 5, 5))\n",
    "\n",
    "subtrair = fabrica_de_funcoes (\"subtracao\")\n",
    "print (subtrair (55, 5, 5, 5, 10))\n",
    "\n",
    "multiplicar = fabrica_de_funcoes (\"multiplicacao\")\n",
    "print (multiplicar (2, 2))\n",
    "\n",
    "dividir = fabrica_de_funcoes (\"divisao\")\n",
    "print (dividir (1980, 4, 2, 2, 3))\n",
    "\n",
    "operacao_invalida = fabrica_de_funcoes (\"modulo\")\n",
    "print (operacao_invalida (5, 5, 5))"
   ]
  }
 ],
 "metadata": {
  "kernelspec": {
   "display_name": "Python 3 (ipykernel)",
   "language": "python",
   "name": "python3"
  },
  "language_info": {
   "codemirror_mode": {
    "name": "ipython",
    "version": 3
   },
   "file_extension": ".py",
   "mimetype": "text/x-python",
   "name": "python",
   "nbconvert_exporter": "python",
   "pygments_lexer": "ipython3",
   "version": "3.12.4"
  }
 },
 "nbformat": 4,
 "nbformat_minor": 5
}
